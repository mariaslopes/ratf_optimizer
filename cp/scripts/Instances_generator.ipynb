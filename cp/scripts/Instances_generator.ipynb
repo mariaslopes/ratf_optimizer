{
  "cells": [
    {
      "cell_type": "code",
      "execution_count": 10,
      "metadata": {},
      "outputs": [],
      "source": [
        "import numpy as np\n",
        "import os\n",
        "from itertools import permutations"
      ]
    },
    {
      "cell_type": "code",
      "execution_count": 5,
      "metadata": {
        "id": "F7LeqXebeq7f"
      },
      "outputs": [],
      "source": [
        "def write_parts(operations, is_round2_model3):\n",
        "  parts = ['''{\"Entry\",\"Picking1\",\"Dropping1\",\"Output\"}''',\n",
        "           '''{\"Entry\",\"Picking1\",\"Dropping1\",\"Machine\",\"Picking2\",\"Dropping2\",\"Output\"}''',\n",
        "           '''{\"Entry\",\"Picking1\",\"Dropping1\",\"MachineA\",\"Picking2\",\"Dropping2\",\"MachineB\",\"Picking3\",\"Dropping3\",\"Output\"}''',\n",
        "           '''{\"Entry\",\"Picking1\",\"Dropping1\",\"MachineB\",\"Picking2\",\"Dropping2\",\"Output\"}'''\n",
        "          ]\n",
        "\n",
        "  shift = [0,0,0,0]\n",
        "\n",
        "  for i in range(4):\n",
        "    digit = int(operations[i])\n",
        "    if digit == 1 and is_round2_model3:\n",
        "      shift[i] = 2\n",
        "\n",
        "  parts_str = '''Parts = #[\\n    1:\\n   ''' + parts[int(operations[0]) + shift[0]] + '''\\n    2:\\n   ''' + parts[int(operations[1]) + shift[1]] + '''\\n    3:\\n   ''' + parts[int(operations[2]) + shift[2]] + '''\\n    4:\\n   ''' + parts[int(operations[3]) + shift[3]] + '''\\n]#;'''\n",
        "  return parts_str\n",
        "\n",
        "def write_precedences(operations, is_round2_model3):\n",
        "  precedences = ['''{\\n  <\"Entry\",     \"Picking1\" , \"endAtEnd\">,\n",
        "  <\"Picking1\",  \"Dropping1\", \"endBeforeStart\">,\n",
        "  <\"Dropping1\", \"Output\", \"startAtEnd\">\n",
        "\n",
        "  <\"Output\", \"Picking2\", \"endBeforeStart\">\n",
        "  <\"Output\", \"Picking3\", \"endBeforeStart\">\n",
        "  <\"Output\", \"Dropping2\", \"endBeforeStart\">\n",
        "  <\"Output\", \"Dropping3\", \"endBeforeStart\">\n",
        "  <\"Output\", \"MachineA\", \"endBeforeStart\">\n",
        "  <\"Output\", \"MachineB\", \"endBeforeStart\">\n",
        "  <\"Output\", \"Machine\", \"endBeforeStart\">\\n}''',\n",
        "\n",
        "\n",
        "  '''{\\n  < \"Entry\",   \"Picking1\" , \"endAtEnd\">,\n",
        "  < \"Picking1\",   \"Dropping1\", \"endBeforeStart\">,\n",
        "  < \"Dropping1\",   \"Machine\", \"startAtEnd\">\n",
        "  < \"Machine\",   \"Picking2\", \"endAtEnd\">\n",
        "  < \"Picking2\",   \"Dropping2\", \"endBeforeStart\">,\n",
        "  < \"Dropping2\",   \"Output\", \"startAtEnd\">\n",
        "\n",
        "  < \"Output\",   \"Picking3\", \"endBeforeStart\">\n",
        "  < \"Output\",   \"Dropping3\", \"endBeforeStart\">\n",
        "  <  \"Output\",   \"MachineA\", \"endBeforeStart\">\n",
        "  <  \"Output\",   \"MachineB\", \"endBeforeStart\">\\n}''',\n",
        "\n",
        "\n",
        "  '''{\\n  <\"Entry\",   \"Picking1\" , \"endAtEnd\">,\n",
        "  <\"Picking1\",   \"Dropping1\", \"endBeforeStart\">,\n",
        "  <\"Dropping1\",   \"MachineA\", \"startAtEnd\">\n",
        "  <\"MachineA\",   \"Picking2\", \"endAtEnd\">\n",
        "  <\"Picking2\",   \"Dropping2\", \"endBeforeStart\">,\n",
        "  <\"Dropping2\",   \"MachineB\", \"startAtEnd\">\n",
        "  <\"MachineB\",   \"Picking3\", \"endAtEnd\">\n",
        "  <\"Picking3\",   \"Dropping3\", \"endBeforeStart\">,\n",
        "  <\"Dropping3\",   \"Output\", \"startAtEnd\">\n",
        "\n",
        "  <\"Output\",   \"Machine\", \"endBeforeStart\">\\n}''',\n",
        "\n",
        "\n",
        "  '''{\\n  <\"Entry\",   \"Picking1\" , \"endAtEnd\">,\n",
        "  <\"Picking1\",   \"Dropping1\", \"endBeforeStart\">,\n",
        "  <\"Dropping1\",   \"MachineB\", \"startAtEnd\">\n",
        "  <\"MachineB\",   \"Picking2\", \"endAtEnd\">\n",
        "  <\"Picking2\",   \"Dropping2\", \"endBeforeStart\">,\n",
        "  <\"Dropping2\",   \"Output\", \"startAtEnd\">\n",
        "\n",
        "  <\"Output\",   \"Picking3\", \"endBeforeStart\">\n",
        "  <\"Output\",   \"Dropping3\", \"endBeforeStart\">\n",
        "  <\"Output\",   \"MachineA\", \"endBeforeStart\">\n",
        "  <\"Output\",   \"Machine\", \"endBeforeStart\">\\n}''']\n",
        "\n",
        "  shift = [0,0,0,0]\n",
        "\n",
        "  for i in range(4):\n",
        "    digit = int(operations[i])\n",
        "    if digit == 1 and is_round2_model3:\n",
        "      shift[i] = 2\n",
        "\n",
        "  precedences_str = 'Precedences = #[\\n1:' + precedences[int(operations[0]) + shift[0]] + '\\n2:' +  precedences[int(operations[1]) + shift[1]] + '\\n3:' + precedences[int(operations[2]) + shift[2]] + '\\n4:' + precedences[int(operations[3]) + shift[3]] + '\\n]#;'\n",
        "  return precedences_str\n",
        "\n",
        "def write_to_file(directory, round, num_boxes, operations, robotC, is_round2_model3, file_list):\n",
        "    skills = '''Skills = {\n",
        "      < \"R\",  \"Picking1\",   0>,\n",
        "      < \"R\",  \"Dropping1\",  0>,\n",
        "      < \"R\",  \"Picking2\",   1>,\n",
        "      < \"R\",  \"Dropping2\",  1>,\n",
        "      < \"R\",  \"Picking3\",   2>,\n",
        "      < \"R\",  \"Dropping3\",  2>,\n",
        "      < \"E1\",  \"Entry\",   50>,\n",
        "      < \"E2\",  \"Entry\",   51>,\n",
        "      < \"E3\",  \"Entry\",   52>,\n",
        "      < \"E4\",  \"Entry\",   53>,\n",
        "      < \"O1\",  \"Output\",  62>,\n",
        "      < \"O2\",  \"Output\",  63>,\n",
        "      < \"O3\",  \"Output\",  64>,\n",
        "      < \"O4\",  \"Output\",  65>,\n",
        "      < \"A1\",  \"Machine\",  11>,\n",
        "      < \"A2\",  \"Machine\",  18>,\n",
        "      < \"B1\",  \"Machine\",  7>,\n",
        "      < \"B2\",  \"Machine\",  14>,\n",
        "      < \"A1\",  \"MachineA\",  11>,\n",
        "      < \"A2\",  \"MachineA\",  18>,\n",
        "      < \"B1\",  \"MachineB\",  7>,\n",
        "      < \"B2\",  \"MachineB\",  14>,\n",
        "    };'''\n",
        "\n",
        "    parameters = '''Tasks = {\"Entry\",\"Picking1\",\"Picking2\",\"Picking3\",\"Dropping1\",\"Dropping2\",\"Dropping3\",\"Output\",\"Machine\",\"MachineA\",\"MachineB\"};\n",
        "    Workers = {\"R\",\"E1\",\"E2\",\"E3\",\"E4\",\"O1\",\"O2\",\"O3\",\"O4\",\"A1\",\"A2\",\"B1\",\"B2\"};\n",
        "\n",
        "    Pickings = {\"Picking1\",\"Picking2\",\"Picking3\"};\n",
        "    Droppings = {\"Dropping1\",\"Dropping2\",\"Dropping3\"};\n",
        "    Machines = {\"Machine\",\"MachineA\",\"MachineB\"};'''\n",
        "\n",
        "    parts = write_parts(operations, is_round2_model3)\n",
        "    precedences = write_precedences(operations, is_round2_model3)\n",
        "\n",
        "    file_path = directory + \"/R\" + str(round) + \"_\" + operations + \"_C\" + str(robotC) + \".dat\";\n",
        "    with open(file_path, \"w\") as file:\n",
        "        file.write(\"nBoxes = \" + str(num_boxes) + \";\\n\")\n",
        "        file.write(\"L_c = [50, 51, 52, 53];\\n\")\n",
        "        file.write(\"n_eta = [\"+ operations[0]+ \",\"+ operations[1]+ \",\"+ operations[2]+ \",\"+ operations[3]+ \"];\\n\");\n",
        "        file.write(\"C = \"+ str(robotC) + \";\\n\\n\")\n",
        "        file.write(parameters + \"\\n\\n\")\n",
        "        file.write(skills + \"\\n\\n\")\n",
        "        file.write(precedences + \"\\n\\n\")\n",
        "        file.write(parts + \"\\n\\n\")\n",
        "\n",
        "    filename = \"Data\" + str(round) + \"/R\" + str(round) + \"_\" + operations + \"_C\" + str(robotC) + \".dat\"\n",
        "    file_list.write(\"\\\"\" + filename + \"\\\",\\n\")"
      ]
    },
    {
      "cell_type": "markdown",
      "metadata": {},
      "source": [
        "### Round 1 instances"
      ]
    },
    {
      "cell_type": "code",
      "execution_count": 8,
      "metadata": {},
      "outputs": [],
      "source": [
        "capacity = 4\n",
        "operations = ['0'.zfill(4)]\n",
        "round = 1\n",
        "directory = \"../results/Data1\"\n",
        "if not os.path.exists(directory):\n",
        "    os.mkdir(directory)\n",
        "\n",
        "file_list = directory + \"/filelist.txt\"\n",
        "with open(file_list, \"w\") as file:\n",
        "  for cap in range(1, capacity+1):\n",
        "      for i, code in enumerate(operations):\n",
        "          write_to_file(directory, round, capacity, str(code), cap, False, file)"
      ]
    },
    {
      "cell_type": "markdown",
      "metadata": {},
      "source": [
        "### Round 2 instances"
      ]
    },
    {
      "cell_type": "code",
      "execution_count": 11,
      "metadata": {},
      "outputs": [],
      "source": [
        "digits = '1100'\n",
        "operations = set()\n",
        "for p in permutations(digits):\n",
        "  operations.add(''.join(p))\n",
        "\n",
        "capacity = 4\n",
        "round = 2\n",
        "directory = \"../results/Data2\"\n",
        "if not os.path.exists(directory):\n",
        "    os.mkdir(directory)\n",
        "\n",
        "file_list = directory + \"/filelist.txt\"\n",
        "with open(file_list, \"w\") as file:\n",
        "  for cap in range(1, capacity+1):\n",
        "      for i, code in enumerate(operations):\n",
        "          write_to_file(directory, round, capacity, str(code), cap, False, file)"
      ]
    },
    {
      "cell_type": "markdown",
      "metadata": {},
      "source": [
        "### Round 2 extra  instances"
      ]
    },
    {
      "cell_type": "code",
      "execution_count": 12,
      "metadata": {},
      "outputs": [],
      "source": [
        "round = '2E'\n",
        "operations = ['1110', '1111']\n",
        "capacity = 2\n",
        "directory = '../results/Data2E'\n",
        "\n",
        "if not os.path.exists(directory):\n",
        "    os.mkdir(directory)\n",
        "\n",
        "file_list = directory + \"/filelist.txt\"\n",
        "with open(file_list, \"w\") as file:\n",
        "  for cap in range(1, capacity+1):\n",
        "      for i, code in enumerate(operations):\n",
        "          write_to_file(directory, round, capacity, str(code), cap, False, file)"
      ]
    },
    {
      "cell_type": "markdown",
      "metadata": {},
      "source": [
        "### Round 2 instances with rules of round 3"
      ]
    },
    {
      "cell_type": "code",
      "execution_count": 13,
      "metadata": {},
      "outputs": [],
      "source": [
        "digits = '1100'\n",
        "operations = set()\n",
        "for p in permutations(digits):\n",
        "  operations.add(''.join(p))\n",
        "\n",
        "capacity = 4\n",
        "round = \"2M3\"\n",
        "directory = \"../results/Data2M3\"\n",
        "if not os.path.exists(directory):\n",
        "    os.mkdir(directory)\n",
        "\n",
        "file_list = directory + \"/filelist.txt\"\n",
        "with open(file_list, \"w\") as file:\n",
        "  for cap in range(1, capacity+1):\n",
        "      for i, code in enumerate(operations):\n",
        "          write_to_file(directory, round, capacity, str(code), cap, True, file)"
      ]
    },
    {
      "cell_type": "markdown",
      "metadata": {},
      "source": [
        "### Round 3 instances"
      ]
    },
    {
      "cell_type": "code",
      "execution_count": 14,
      "metadata": {},
      "outputs": [],
      "source": [
        "digits = '2110'\n",
        "operations = set()\n",
        "for p in permutations(digits):\n",
        "  operations.add(''.join(p))\n",
        "\n",
        "capacity = 4\n",
        "round = 3\n",
        "directory = \"../results/Data3\"\n",
        "if not os.path.exists(directory):\n",
        "    os.mkdir(directory)\n",
        "\n",
        "file_list = directory + \"/filelist.txt\"\n",
        "with open(file_list, \"w\") as file:\n",
        "  for cap in range(1, capacity+1):\n",
        "      for i, code in enumerate(operations):\n",
        "          write_to_file(directory, round, capacity, str(code), cap, False, file)"
      ]
    },
    {
      "cell_type": "markdown",
      "metadata": {},
      "source": [
        "### Round 3 extra instances"
      ]
    },
    {
      "cell_type": "code",
      "execution_count": 15,
      "metadata": {},
      "outputs": [],
      "source": [
        "round = '3E'\n",
        "operations = ['2200', '2210', '2211', '2220', '2221', '2222']\n",
        "capacity = 1\n",
        "directory = '../results/Data3E'\n",
        "\n",
        "if not os.path.exists(directory):\n",
        "    os.mkdir(directory)\n",
        "\n",
        "file_list = directory + \"/filelist.txt\"\n",
        "with open(file_list, \"w\") as file:\n",
        "  for cap in range(1, capacity+1):\n",
        "      for i, code in enumerate(operations):\n",
        "          write_to_file(directory, round, capacity, str(code), cap, False, file)"
      ]
    }
  ],
  "metadata": {
    "colab": {
      "provenance": []
    },
    "kernelspec": {
      "display_name": "Python 3",
      "name": "python3"
    },
    "language_info": {
      "codemirror_mode": {
        "name": "ipython",
        "version": 3
      },
      "file_extension": ".py",
      "mimetype": "text/x-python",
      "name": "python",
      "nbconvert_exporter": "python",
      "pygments_lexer": "ipython3",
      "version": "3.12.2"
    }
  },
  "nbformat": 4,
  "nbformat_minor": 0
}
